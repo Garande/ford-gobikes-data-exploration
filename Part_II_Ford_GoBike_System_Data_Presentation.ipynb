{
 "cells": [
  {
   "cell_type": "markdown",
   "metadata": {
    "slideshow": {
     "slide_type": "slide"
    }
   },
   "source": [
    "# Ford GoBike Ride Frequencies per User Type and Gender\n",
    "## by Wafula Abdalah Hassani"
   ]
  },
  {
   "cell_type": "markdown",
   "metadata": {
    "slideshow": {
     "slide_type": "slide"
    }
   },
   "source": [
    "## Investigation Overview\n",
    "\n",
    "\n",
    "In this investigation, I wanted assess how Rides frequencies vary by categorical features. The main focus was put on user type, time of the day, day of the week and member gender.\n",
    "\n",
    "\n",
    "## Dataset Overview\n",
    "\n",
    "The dataset consists of information regarding 183,412 individual rides made in Bike sharing system covering the San Francisco Bay area. The dataset consists of features such as Customer type, gender, ride durations and other additional variables."
   ]
  },
  {
   "cell_type": "code",
   "execution_count": 1,
   "metadata": {
    "slideshow": {
     "slide_type": "skip"
    }
   },
   "outputs": [],
   "source": [
    "# import all packages and set plots to be embedded inline\n",
    "import numpy as np\n",
    "import pandas as pd\n",
    "import matplotlib.pyplot as plt\n",
    "import seaborn as sb\n",
    "\n",
    "%matplotlib inline\n",
    "\n",
    "# suppress warnings from final output\n",
    "import warnings\n",
    "warnings.simplefilter(\"ignore\")"
   ]
  },
  {
   "cell_type": "code",
   "execution_count": 4,
   "metadata": {
    "slideshow": {
     "slide_type": "skip"
    }
   },
   "outputs": [],
   "source": [
    "# load in the dataset into a pandas dataframe\n",
    "bikes_df = pd.read_csv('ford-gobikes.csv')\n",
    "\n",
    "bikes_df_clean = bikes_df.copy()"
   ]
  },
  {
   "cell_type": "code",
   "execution_count": 5,
   "metadata": {
    "slideshow": {
     "slide_type": "skip"
    }
   },
   "outputs": [],
   "source": [
    "bikes_df_clean.dropna(inplace=True)\n",
    "\n",
    "# Converting start_time, end_time columns\n",
    "bikes_df_clean['start_time'] = pd.to_datetime(bikes_df_clean['start_time'])\n",
    "bikes_df_clean['end_time'] = pd.to_datetime(bikes_df_clean['end_time'])\n",
    "\n",
    "# Converting bike_id column\n",
    "bikes_df_clean['bike_id'] = bikes_df_clean.bike_id.astype(str)\n",
    "\n",
    "# Converting member_birth_year column to int\n",
    "bikes_df_clean['member_birth_year'] = bikes_df_clean.member_birth_year.astype(int)\n",
    "\n",
    "# Extracting the day, month and year columns from the dates fields\n",
    "import datetime as dt\n",
    "bikes_df_clean['start_day'] = bikes_df_clean['start_time'].dt.day_name()\n",
    "bikes_df_clean['start_month'] = bikes_df_clean['start_time'].dt.month_name()\n",
    "bikes_df_clean['start_hour'] = bikes_df_clean['start_time'].dt.hour\n",
    "bikes_df_clean['start_hour'] = bikes_df_clean['start_hour'].astype(str)\n",
    "\n",
    "bikes_df_clean['end_day'] = bikes_df_clean['end_time'].dt.day_name()\n",
    "bikes_df_clean['end_month'] = bikes_df_clean['end_time'].dt.month_name()\n",
    "bikes_df_clean['end_hour'] = bikes_df_clean['end_time'].dt.hour\n",
    "bikes_df_clean['end_hour'] = bikes_df_clean['end_hour'].astype(str)\n",
    "\n",
    "# converting duration from seconds to minutes \n",
    "bikes_df_clean['duration_min'] = bikes_df_clean['duration_sec'] / 60"
   ]
  },
  {
   "cell_type": "code",
   "execution_count": 6,
   "metadata": {
    "slideshow": {
     "slide_type": "skip"
    }
   },
   "outputs": [],
   "source": [
    "# converting days and hours into ordered categorical types\n",
    "\n",
    "var_dict = {'start_day': ['Monday','Tuesday','Wednesday','Thursday','Friday', 'Saturday', 'Sunday'],\n",
    "            'end_day': ['Monday','Tuesday','Wednesday','Thursday','Friday', 'Saturday', 'Sunday'],\n",
    "            'start_hour': [str(i) for i in range(0,24)],\n",
    "            'end_hour': [str(i) for i in range(0,24)]}\n",
    "\n",
    "for var in var_dict:\n",
    "    ordered_var = pd.api.types.CategoricalDtype(ordered = True,\n",
    "                                                categories = var_dict[var])\n",
    "    \n",
    "    bikes_df_clean[var] = bikes_df_clean[var].astype(ordered_var)"
   ]
  },
  {
   "cell_type": "markdown",
   "metadata": {
    "slideshow": {
     "slide_type": "slide"
    }
   },
   "source": [
    "## Rides Frequency per day\n",
    "\n",
    "More trips were made on Weekdays (Monday - Friday) as compared to weekends (Saturday - Sunday) and a high volume of trips were recorded on Thursday."
   ]
  },
  {
   "cell_type": "code",
   "execution_count": 9,
   "metadata": {
    "slideshow": {
     "slide_type": "subslide"
    }
   },
   "outputs": [
    {
     "data": {
      "image/png": "[encoded data removed]",
      "text/plain": [
       "<Figure size 576x432 with 1 Axes>"
      ]
     },
     "metadata": {
      "needs_background": "light"
     },
     "output_type": "display_data"
    }
   ],
   "source": [
    "# Rides frequency per days\n",
    "fig = plt.figure(figsize=[8,6])\n",
    "\n",
    "default_color = sb.color_palette()[0]\n",
    "sb.countplot(data = bikes_df_clean, x = 'start_day', color = default_color)\n",
    "plt.title('Rides frequency per days')\n",
    "plt.ylabel('Numbe of Rides')\n",
    "plt.xlabel('Week days')\n",
    "plt.show();"
   ]
  },
  {
   "cell_type": "markdown",
   "metadata": {
    "collapsed": true,
    "slideshow": {
     "slide_type": "slide"
    }
   },
   "source": [
    "## Rides Frequency per hour\n",
    "\n",
    "High peaks were recorded in the morning hours i.e. 8AM and 9AM and evening hours i.e. 4PM - 6PM. This showed that more trips were made before and after office/working hours. A substanstial decline in trips recorded was observed in hours after 6PM"
   ]
  },
  {
   "cell_type": "code",
   "execution_count": 10,
   "metadata": {
    "slideshow": {
     "slide_type": "subslide"
    }
   },
   "outputs": [
    {
     "data": {
      "image/png": "[encoded data removed]",
      "text/plain": [
       "<Figure size 576x432 with 1 Axes>"
      ]
     },
     "metadata": {
      "needs_background": "light"
     },
     "output_type": "display_data"
    }
   ],
   "source": [
    "# Rides frequency per hour\n",
    "fig = plt.figure(figsize=[8,6])\n",
    "\n",
    "color = sb.color_palette()[0]\n",
    "sb.countplot(data = bikes_df_clean, x = 'start_hour', color = color)\n",
    "plt.title('Rides frequency per hour')\n",
    "plt.ylabel('Numbe of Rides')\n",
    "plt.xlabel('Hour of the day')\n",
    "plt.show();"
   ]
  },
  {
   "cell_type": "markdown",
   "metadata": {
    "slideshow": {
     "slide_type": "slide"
    }
   },
   "source": [
    "## Rides Frequency per User Type\n",
    "\n",
    "Majority of the users are Subscribers accounting to over 90% with a substantial difference to Customers of ~9%"
   ]
  },
  {
   "cell_type": "code",
   "execution_count": 12,
   "metadata": {
    "slideshow": {
     "slide_type": "subslide"
    }
   },
   "outputs": [
    {
     "data": {
      "image/png": "[encoded data removed]",
      "text/plain": [
       "<Figure size 576x432 with 1 Axes>"
      ]
     },
     "metadata": {
      "needs_background": "light"
     },
     "output_type": "display_data"
    }
   ],
   "source": [
    "fig = plt.figure(figsize=[8,6])\n",
    "\n",
    "color = sb.color_palette()[0]\n",
    "ax = sb.countplot(data = bikes_df_clean, x = 'user_type', color = color, \n",
    "             order = bikes_df_clean.user_type.value_counts().index);\n",
    "total = len(bikes_df_clean)\n",
    "for p in ax.patches:\n",
    "    percentage = '{:.3f}%'.format(100 * p.get_height()/total)\n",
    "    x = p.get_x() + p.get_width()/2\n",
    "    y = p.get_height()+.05\n",
    "    ax.annotate(percentage, (x, y),ha='center')\n",
    "plt.title('Rides frequency per user type')\n",
    "plt.ylabel('Numbe of Rides')\n",
    "plt.xlabel('User Type')\n",
    "plt.show();"
   ]
  },
  {
   "cell_type": "markdown",
   "metadata": {
    "slideshow": {
     "slide_type": "slide"
    }
   },
   "source": [
    "## Rides Frequency per member gender\n",
    "\n",
    "Majority of the users are Male with over 74.5% as compared to Female with ~23% and 2% of other gender"
   ]
  },
  {
   "cell_type": "code",
   "execution_count": 13,
   "metadata": {
    "slideshow": {
     "slide_type": "subslide"
    }
   },
   "outputs": [
    {
     "data": {
      "image/png": "[encoded data removed]",
      "text/plain": [
       "<Figure size 432x288 with 1 Axes>"
      ]
     },
     "metadata": {
      "needs_background": "light"
     },
     "output_type": "display_data"
    }
   ],
   "source": [
    "# Rides frequency per member gender\n",
    "color = sb.color_palette()[0]\n",
    "ax = sb.countplot(data = bikes_df_clean, x = 'member_gender', color = color, \n",
    "             order = bikes_df_clean.member_gender.value_counts().index);\n",
    "total = len(bikes_df_clean)\n",
    "for p in ax.patches:\n",
    "    percentage = '{:.3f}%'.format(100 * p.get_height()/total)\n",
    "    x = p.get_x() + p.get_width()/3\n",
    "    y = p.get_height()+.05\n",
    "    ax.annotate(percentage, (x, y),ha='center')\n",
    "plt.title('Rides frequency per member gender')\n",
    "plt.ylabel('Numbe of Rides')\n",
    "plt.xlabel('Member Type')\n",
    "plt.show();"
   ]
  },
  {
   "cell_type": "code",
   "execution_count": 17,
   "metadata": {
    "slideshow": {
     "slide_type": "skip"
    }
   },
   "outputs": [
    {
     "name": "stdout",
     "output_type": "stream",
     "text": [
      "[NbConvertApp] Converting notebook Part_II_Ford_GoBike_System_Data_Presentation.ipynb to slides\n",
      "[NbConvertApp] Writing 647426 bytes to Part_II_Ford_GoBike_System_Data_Presentation.slides.html\n",
      "[NbConvertApp] Redirecting reveal.js requests to https://cdnjs.cloudflare.com/ajax/libs/reveal.js/3.5.0\n",
      "Serving your slides at http://127.0.0.1:8000/Part_II_Ford_GoBike_System_Data_Presentation.slides.html\n",
      "Use Control-C to stop this server\n",
      "^C\n",
      "\n",
      "Interrupted\n"
     ]
    }
   ],
   "source": [
    "!jupyter nbconvert Part_II_Ford_GoBike_System_Data_Presentation.ipynb --to slides --post serve --no-input --no-prompt"
   ]
  },
  {
   "cell_type": "code",
   "execution_count": null,
   "metadata": {},
   "outputs": [],
   "source": []
  }
 ],
 "metadata": {
  "celltoolbar": "Slideshow",
  "kernelspec": {
   "display_name": "Python 3",
   "language": "python",
   "name": "python3"
  },
  "language_info": {
   "codemirror_mode": {
    "name": "ipython",
    "version": 3
   },
   "file_extension": ".py",
   "mimetype": "text/x-python",
   "name": "python",
   "nbconvert_exporter": "python",
   "pygments_lexer": "ipython3",
   "version": "3.8.5"
  }
 },
 "nbformat": 4,
 "nbformat_minor": 2
}
